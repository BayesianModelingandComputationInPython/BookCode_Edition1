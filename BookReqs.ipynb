{
 "cells": [
  {
   "cell_type": "markdown",
   "id": "c138830e-a0d2-4b3f-9ecc-a712f56a1c69",
   "metadata": {},
   "source": [
    "# Requirements gathering"
   ]
  },
  {
   "cell_type": "code",
   "execution_count": 2,
   "id": "ea676a97-2d75-4659-a39d-32e53f1dcf34",
   "metadata": {},
   "outputs": [],
   "source": [
    "import pandas as pd"
   ]
  },
  {
   "cell_type": "markdown",
   "id": "e3c88387-4b89-4e0e-8b0b-1dbb4424c242",
   "metadata": {},
   "source": [
    "## Load Current Docs File"
   ]
  },
  {
   "cell_type": "code",
   "execution_count": 9,
   "id": "fdbdfde9-10fa-4833-8dd3-142d75700241",
   "metadata": {},
   "outputs": [
    {
     "data": {
      "text/html": [
       "<div>\n",
       "<style scoped>\n",
       "    .dataframe tbody tr th:only-of-type {\n",
       "        vertical-align: middle;\n",
       "    }\n",
       "\n",
       "    .dataframe tbody tr th {\n",
       "        vertical-align: top;\n",
       "    }\n",
       "\n",
       "    .dataframe thead th {\n",
       "        text-align: right;\n",
       "    }\n",
       "</style>\n",
       "<table border=\"1\" class=\"dataframe\">\n",
       "  <thead>\n",
       "    <tr style=\"text-align: right;\">\n",
       "      <th></th>\n",
       "      <th>0</th>\n",
       "    </tr>\n",
       "  </thead>\n",
       "  <tbody>\n",
       "    <tr>\n",
       "      <th>0</th>\n",
       "      <td>alabaster==0.7.12</td>\n",
       "    </tr>\n",
       "    <tr>\n",
       "      <th>1</th>\n",
       "      <td>anyio==3.4.0</td>\n",
       "    </tr>\n",
       "    <tr>\n",
       "      <th>2</th>\n",
       "      <td>argon2-cffi==21.3.0</td>\n",
       "    </tr>\n",
       "    <tr>\n",
       "      <th>3</th>\n",
       "      <td>argon2-cffi-bindings==21.2.0</td>\n",
       "    </tr>\n",
       "    <tr>\n",
       "      <th>4</th>\n",
       "      <td>attrs==21.4.0</td>\n",
       "    </tr>\n",
       "    <tr>\n",
       "      <th>...</th>\n",
       "      <td>...</td>\n",
       "    </tr>\n",
       "    <tr>\n",
       "      <th>110</th>\n",
       "      <td>wcwidth==0.2.5</td>\n",
       "    </tr>\n",
       "    <tr>\n",
       "      <th>111</th>\n",
       "      <td>webencodings==0.5.1</td>\n",
       "    </tr>\n",
       "    <tr>\n",
       "      <th>112</th>\n",
       "      <td>websocket-client==1.2.3</td>\n",
       "    </tr>\n",
       "    <tr>\n",
       "      <th>113</th>\n",
       "      <td>widgetsnbextension==3.5.2</td>\n",
       "    </tr>\n",
       "    <tr>\n",
       "      <th>114</th>\n",
       "      <td>zipp==3.7.0</td>\n",
       "    </tr>\n",
       "  </tbody>\n",
       "</table>\n",
       "<p>115 rows × 1 columns</p>\n",
       "</div>"
      ],
      "text/plain": [
       "                                0\n",
       "0               alabaster==0.7.12\n",
       "1                    anyio==3.4.0\n",
       "2             argon2-cffi==21.3.0\n",
       "3    argon2-cffi-bindings==21.2.0\n",
       "4                   attrs==21.4.0\n",
       "..                            ...\n",
       "110                wcwidth==0.2.5\n",
       "111           webencodings==0.5.1\n",
       "112       websocket-client==1.2.3\n",
       "113     widgetsnbextension==3.5.2\n",
       "114                   zipp==3.7.0\n",
       "\n",
       "[115 rows x 1 columns]"
      ]
     },
     "execution_count": 9,
     "metadata": {},
     "output_type": "execute_result"
    }
   ],
   "source": [
    "current=pd.read_csv(\"requirements-docs_old.txt\", header=None)\n",
    "current"
   ]
  },
  {
   "cell_type": "code",
   "execution_count": 16,
   "id": "0df3f4b0-b0d8-49bd-a852-dae3d0b462f5",
   "metadata": {},
   "outputs": [
    {
     "data": {
      "text/html": [
       "<div>\n",
       "<style scoped>\n",
       "    .dataframe tbody tr th:only-of-type {\n",
       "        vertical-align: middle;\n",
       "    }\n",
       "\n",
       "    .dataframe tbody tr th {\n",
       "        vertical-align: top;\n",
       "    }\n",
       "\n",
       "    .dataframe thead th {\n",
       "        text-align: right;\n",
       "    }\n",
       "</style>\n",
       "<table border=\"1\" class=\"dataframe\">\n",
       "  <thead>\n",
       "    <tr style=\"text-align: right;\">\n",
       "      <th></th>\n",
       "      <th>package</th>\n",
       "      <th>version</th>\n",
       "    </tr>\n",
       "  </thead>\n",
       "  <tbody>\n",
       "    <tr>\n",
       "      <th>0</th>\n",
       "      <td>alabaster</td>\n",
       "      <td>0.7.12</td>\n",
       "    </tr>\n",
       "    <tr>\n",
       "      <th>1</th>\n",
       "      <td>anyio</td>\n",
       "      <td>3.4.0</td>\n",
       "    </tr>\n",
       "    <tr>\n",
       "      <th>2</th>\n",
       "      <td>argon2-cffi</td>\n",
       "      <td>21.3.0</td>\n",
       "    </tr>\n",
       "    <tr>\n",
       "      <th>3</th>\n",
       "      <td>argon2-cffi-bindings</td>\n",
       "      <td>21.2.0</td>\n",
       "    </tr>\n",
       "    <tr>\n",
       "      <th>4</th>\n",
       "      <td>attrs</td>\n",
       "      <td>21.4.0</td>\n",
       "    </tr>\n",
       "    <tr>\n",
       "      <th>...</th>\n",
       "      <td>...</td>\n",
       "      <td>...</td>\n",
       "    </tr>\n",
       "    <tr>\n",
       "      <th>110</th>\n",
       "      <td>wcwidth</td>\n",
       "      <td>0.2.5</td>\n",
       "    </tr>\n",
       "    <tr>\n",
       "      <th>111</th>\n",
       "      <td>webencodings</td>\n",
       "      <td>0.5.1</td>\n",
       "    </tr>\n",
       "    <tr>\n",
       "      <th>112</th>\n",
       "      <td>websocket-client</td>\n",
       "      <td>1.2.3</td>\n",
       "    </tr>\n",
       "    <tr>\n",
       "      <th>113</th>\n",
       "      <td>widgetsnbextension</td>\n",
       "      <td>3.5.2</td>\n",
       "    </tr>\n",
       "    <tr>\n",
       "      <th>114</th>\n",
       "      <td>zipp</td>\n",
       "      <td>3.7.0</td>\n",
       "    </tr>\n",
       "  </tbody>\n",
       "</table>\n",
       "<p>115 rows × 2 columns</p>\n",
       "</div>"
      ],
      "text/plain": [
       "                  package version\n",
       "0               alabaster  0.7.12\n",
       "1                   anyio   3.4.0\n",
       "2             argon2-cffi  21.3.0\n",
       "3    argon2-cffi-bindings  21.2.0\n",
       "4                   attrs  21.4.0\n",
       "..                    ...     ...\n",
       "110               wcwidth   0.2.5\n",
       "111          webencodings   0.5.1\n",
       "112      websocket-client   1.2.3\n",
       "113    widgetsnbextension   3.5.2\n",
       "114                  zipp   3.7.0\n",
       "\n",
       "[115 rows x 2 columns]"
      ]
     },
     "execution_count": 16,
     "metadata": {},
     "output_type": "execute_result"
    }
   ],
   "source": [
    "current_split = current[0].str.split(\"==\", expand=True)\n",
    "current_split.columns = [\"package\", \"version\"]\n",
    "current_split"
   ]
  },
  {
   "cell_type": "markdown",
   "id": "944d550a-d87c-4a14-ad11-00cc05d47326",
   "metadata": {},
   "source": [
    "## Osvaldo Packages"
   ]
  },
  {
   "cell_type": "code",
   "execution_count": 27,
   "id": "ffbcc39b-a267-4779-9a92-a476f694cc3c",
   "metadata": {},
   "outputs": [
    {
     "ename": "AttributeError",
     "evalue": "'DataFrame' object has no attribute 'str'",
     "output_type": "error",
     "traceback": [
      "\u001b[0;31m---------------------------------------------------------------------------\u001b[0m",
      "\u001b[0;31mAttributeError\u001b[0m                            Traceback (most recent call last)",
      "\u001b[0;32m/var/folders/nf/ch8x562s5q30j7qbf07161qr0000gp/T/ipykernel_69064/479684377.py\u001b[0m in \u001b[0;36m<module>\u001b[0;34m\u001b[0m\n\u001b[0;32m----> 1\u001b[0;31m \u001b[0mosvaldo\u001b[0m \u001b[0;34m=\u001b[0m \u001b[0mpd\u001b[0m\u001b[0;34m.\u001b[0m\u001b[0mread_csv\u001b[0m\u001b[0;34m(\u001b[0m\u001b[0;34m\"pkg\"\u001b[0m\u001b[0;34m,\u001b[0m\u001b[0mheader\u001b[0m\u001b[0;34m=\u001b[0m\u001b[0;32mNone\u001b[0m\u001b[0;34m)\u001b[0m\u001b[0;34m.\u001b[0m\u001b[0mstr\u001b[0m\u001b[0;34m.\u001b[0m\u001b[0msplit\u001b[0m\u001b[0;34m(\u001b[0m\u001b[0;34m\",\"\u001b[0m\u001b[0;34m,\u001b[0m \u001b[0mexpand\u001b[0m\u001b[0;34m=\u001b[0m\u001b[0;32mTrue\u001b[0m\u001b[0;34m)\u001b[0m\u001b[0;34m\u001b[0m\u001b[0;34m\u001b[0m\u001b[0m\n\u001b[0m\u001b[1;32m      2\u001b[0m \u001b[0mosvaldo\u001b[0m\u001b[0;34m\u001b[0m\u001b[0;34m\u001b[0m\u001b[0m\n",
      "\u001b[0;32m~/miniconda3/envs/bmcp/lib/python3.9/site-packages/pandas/core/generic.py\u001b[0m in \u001b[0;36m__getattr__\u001b[0;34m(self, name)\u001b[0m\n\u001b[1;32m   5485\u001b[0m         ):\n\u001b[1;32m   5486\u001b[0m             \u001b[0;32mreturn\u001b[0m \u001b[0mself\u001b[0m\u001b[0;34m[\u001b[0m\u001b[0mname\u001b[0m\u001b[0;34m]\u001b[0m\u001b[0;34m\u001b[0m\u001b[0;34m\u001b[0m\u001b[0m\n\u001b[0;32m-> 5487\u001b[0;31m         \u001b[0;32mreturn\u001b[0m \u001b[0mobject\u001b[0m\u001b[0;34m.\u001b[0m\u001b[0m__getattribute__\u001b[0m\u001b[0;34m(\u001b[0m\u001b[0mself\u001b[0m\u001b[0;34m,\u001b[0m \u001b[0mname\u001b[0m\u001b[0;34m)\u001b[0m\u001b[0;34m\u001b[0m\u001b[0;34m\u001b[0m\u001b[0m\n\u001b[0m\u001b[1;32m   5488\u001b[0m \u001b[0;34m\u001b[0m\u001b[0m\n\u001b[1;32m   5489\u001b[0m     \u001b[0;32mdef\u001b[0m \u001b[0m__setattr__\u001b[0m\u001b[0;34m(\u001b[0m\u001b[0mself\u001b[0m\u001b[0;34m,\u001b[0m \u001b[0mname\u001b[0m\u001b[0;34m:\u001b[0m \u001b[0mstr\u001b[0m\u001b[0;34m,\u001b[0m \u001b[0mvalue\u001b[0m\u001b[0;34m)\u001b[0m \u001b[0;34m->\u001b[0m \u001b[0;32mNone\u001b[0m\u001b[0;34m:\u001b[0m\u001b[0;34m\u001b[0m\u001b[0;34m\u001b[0m\u001b[0m\n",
      "\u001b[0;31mAttributeError\u001b[0m: 'DataFrame' object has no attribute 'str'"
     ]
    }
   ],
   "source": [
    "osvaldo = pd.read_csv(\"pkg\",header=None)\n",
    "osvaldo"
   ]
  },
  {
   "cell_type": "code",
   "execution_count": 38,
   "id": "8eb51aec-45a0-4894-be0b-f476aa90df62",
   "metadata": {},
   "outputs": [
    {
     "name": "stderr",
     "output_type": "stream",
     "text": [
      "/var/folders/nf/ch8x562s5q30j7qbf07161qr0000gp/T/ipykernel_69064/897356510.py:1: FutureWarning: The default value of regex will change from True to False in a future version.\n",
      "  osvaldo_split = osvaldo[0].str.replace(\"\\s+\", \",\").str.split(\",\", expand=True)\n"
     ]
    },
    {
     "data": {
      "text/html": [
       "<div>\n",
       "<style scoped>\n",
       "    .dataframe tbody tr th:only-of-type {\n",
       "        vertical-align: middle;\n",
       "    }\n",
       "\n",
       "    .dataframe tbody tr th {\n",
       "        vertical-align: top;\n",
       "    }\n",
       "\n",
       "    .dataframe thead th {\n",
       "        text-align: right;\n",
       "    }\n",
       "</style>\n",
       "<table border=\"1\" class=\"dataframe\">\n",
       "  <thead>\n",
       "    <tr style=\"text-align: right;\">\n",
       "      <th></th>\n",
       "      <th>package</th>\n",
       "      <th>version</th>\n",
       "    </tr>\n",
       "  </thead>\n",
       "  <tbody>\n",
       "    <tr>\n",
       "      <th>0</th>\n",
       "      <td>_ipyw_jlab_nb_ext_conf</td>\n",
       "      <td>0.1.0</td>\n",
       "    </tr>\n",
       "    <tr>\n",
       "      <th>1</th>\n",
       "      <td>_libgcc_mutex</td>\n",
       "      <td>0.1</td>\n",
       "    </tr>\n",
       "    <tr>\n",
       "      <th>2</th>\n",
       "      <td>_openmp_mutex</td>\n",
       "      <td>4.5</td>\n",
       "    </tr>\n",
       "    <tr>\n",
       "      <th>3</th>\n",
       "      <td>absl-py</td>\n",
       "      <td>1.0.0</td>\n",
       "    </tr>\n",
       "    <tr>\n",
       "      <th>4</th>\n",
       "      <td>aeppl</td>\n",
       "      <td>0.0.18</td>\n",
       "    </tr>\n",
       "    <tr>\n",
       "      <th>...</th>\n",
       "      <td>...</td>\n",
       "      <td>...</td>\n",
       "    </tr>\n",
       "    <tr>\n",
       "      <th>347</th>\n",
       "      <td>yarl</td>\n",
       "      <td>1.6.3</td>\n",
       "    </tr>\n",
       "    <tr>\n",
       "      <th>348</th>\n",
       "      <td>zeromq</td>\n",
       "      <td>4.3.4</td>\n",
       "    </tr>\n",
       "    <tr>\n",
       "      <th>349</th>\n",
       "      <td>zipp</td>\n",
       "      <td>3.6.0</td>\n",
       "    </tr>\n",
       "    <tr>\n",
       "      <th>350</th>\n",
       "      <td>zlib</td>\n",
       "      <td>1.2.11</td>\n",
       "    </tr>\n",
       "    <tr>\n",
       "      <th>351</th>\n",
       "      <td>zstd</td>\n",
       "      <td>1.4.9</td>\n",
       "    </tr>\n",
       "  </tbody>\n",
       "</table>\n",
       "<p>352 rows × 2 columns</p>\n",
       "</div>"
      ],
      "text/plain": [
       "                    package version\n",
       "0    _ipyw_jlab_nb_ext_conf   0.1.0\n",
       "1             _libgcc_mutex     0.1\n",
       "2             _openmp_mutex     4.5\n",
       "3                   absl-py   1.0.0\n",
       "4                     aeppl  0.0.18\n",
       "..                      ...     ...\n",
       "347                    yarl   1.6.3\n",
       "348                  zeromq   4.3.4\n",
       "349                    zipp   3.6.0\n",
       "350                    zlib  1.2.11\n",
       "351                    zstd   1.4.9\n",
       "\n",
       "[352 rows x 2 columns]"
      ]
     },
     "execution_count": 38,
     "metadata": {},
     "output_type": "execute_result"
    }
   ],
   "source": [
    "osvaldo_split = osvaldo[0].str.replace(\"\\s+\", \",\").str.split(\",\", expand=True)\n",
    "\n",
    "osvaldo_split = osvaldo_split.iloc[:, [0,1]]\n",
    "osvaldo_split.columns = [\"package\", \"version\"]\n",
    "osvaldo_split"
   ]
  },
  {
   "cell_type": "markdown",
   "id": "4255a2a7-a5a0-47c4-aaaf-97d5485414e9",
   "metadata": {},
   "source": [
    "## Filter to just required docs packages"
   ]
  },
  {
   "cell_type": "code",
   "execution_count": 40,
   "id": "034baa26-7907-4b5d-a58c-e1929c34f761",
   "metadata": {},
   "outputs": [
    {
     "data": {
      "text/plain": [
       "97"
      ]
     },
     "execution_count": 40,
     "metadata": {},
     "output_type": "execute_result"
    }
   ],
   "source": [
    "package_filter = osvaldo_split[\"package\"].isin(current_split[\"package\"])\n",
    "package_filter.sum()"
   ]
  },
  {
   "cell_type": "code",
   "execution_count": 41,
   "id": "c9649c43-1e6b-43fc-ae0e-ab952f5499be",
   "metadata": {},
   "outputs": [
    {
     "data": {
      "text/html": [
       "<div>\n",
       "<style scoped>\n",
       "    .dataframe tbody tr th:only-of-type {\n",
       "        vertical-align: middle;\n",
       "    }\n",
       "\n",
       "    .dataframe tbody tr th {\n",
       "        vertical-align: top;\n",
       "    }\n",
       "\n",
       "    .dataframe thead th {\n",
       "        text-align: right;\n",
       "    }\n",
       "</style>\n",
       "<table border=\"1\" class=\"dataframe\">\n",
       "  <thead>\n",
       "    <tr style=\"text-align: right;\">\n",
       "      <th></th>\n",
       "      <th>package</th>\n",
       "      <th>version</th>\n",
       "    </tr>\n",
       "  </thead>\n",
       "  <tbody>\n",
       "    <tr>\n",
       "      <th>7</th>\n",
       "      <td>alabaster</td>\n",
       "      <td>0.7.12</td>\n",
       "    </tr>\n",
       "    <tr>\n",
       "      <th>10</th>\n",
       "      <td>anyio</td>\n",
       "      <td>2.2.0</td>\n",
       "    </tr>\n",
       "    <tr>\n",
       "      <th>12</th>\n",
       "      <td>argon2-cffi</td>\n",
       "      <td>20.1.0</td>\n",
       "    </tr>\n",
       "    <tr>\n",
       "      <th>17</th>\n",
       "      <td>attrs</td>\n",
       "      <td>21.2.0</td>\n",
       "    </tr>\n",
       "    <tr>\n",
       "      <th>19</th>\n",
       "      <td>backcall</td>\n",
       "      <td>0.2.0</td>\n",
       "    </tr>\n",
       "    <tr>\n",
       "      <th>...</th>\n",
       "      <td>...</td>\n",
       "      <td>...</td>\n",
       "    </tr>\n",
       "    <tr>\n",
       "      <th>322</th>\n",
       "      <td>urllib3</td>\n",
       "      <td>1.26.7</td>\n",
       "    </tr>\n",
       "    <tr>\n",
       "      <th>325</th>\n",
       "      <td>wcwidth</td>\n",
       "      <td>0.2.5</td>\n",
       "    </tr>\n",
       "    <tr>\n",
       "      <th>327</th>\n",
       "      <td>webencodings</td>\n",
       "      <td>0.5.1</td>\n",
       "    </tr>\n",
       "    <tr>\n",
       "      <th>329</th>\n",
       "      <td>widgetsnbextension</td>\n",
       "      <td>3.5.1</td>\n",
       "    </tr>\n",
       "    <tr>\n",
       "      <th>349</th>\n",
       "      <td>zipp</td>\n",
       "      <td>3.6.0</td>\n",
       "    </tr>\n",
       "  </tbody>\n",
       "</table>\n",
       "<p>97 rows × 2 columns</p>\n",
       "</div>"
      ],
      "text/plain": [
       "                package version\n",
       "7             alabaster  0.7.12\n",
       "10                anyio   2.2.0\n",
       "12          argon2-cffi  20.1.0\n",
       "17                attrs  21.2.0\n",
       "19             backcall   0.2.0\n",
       "..                  ...     ...\n",
       "322             urllib3  1.26.7\n",
       "325             wcwidth   0.2.5\n",
       "327        webencodings   0.5.1\n",
       "329  widgetsnbextension   3.5.1\n",
       "349                zipp   3.6.0\n",
       "\n",
       "[97 rows x 2 columns]"
      ]
     },
     "execution_count": 41,
     "metadata": {},
     "output_type": "execute_result"
    }
   ],
   "source": [
    "osvaldo_split[package_filter]"
   ]
  },
  {
   "cell_type": "code",
   "execution_count": 46,
   "id": "03807b79-90c6-4b4a-8d57-cd43bc393630",
   "metadata": {},
   "outputs": [],
   "source": [
    "reqs_filter = osvaldo_split[package_filter].apply(lambda x: f\"{x[0]}=={x[1]}\", axis=1)"
   ]
  },
  {
   "cell_type": "code",
   "execution_count": 48,
   "id": "60e0167a-3ce9-4611-bf98-3f7a34571258",
   "metadata": {},
   "outputs": [],
   "source": [
    "reqs_filter.to_csv(\"reqs-osvaldo.txt\", header=False, index=False)"
   ]
  }
 ],
 "metadata": {
  "kernelspec": {
   "display_name": "Python 3 (ipykernel)",
   "language": "python",
   "name": "python3"
  },
  "language_info": {
   "codemirror_mode": {
    "name": "ipython",
    "version": 3
   },
   "file_extension": ".py",
   "mimetype": "text/x-python",
   "name": "python",
   "nbconvert_exporter": "python",
   "pygments_lexer": "ipython3",
   "version": "3.9.6"
  }
 },
 "nbformat": 4,
 "nbformat_minor": 5
}
